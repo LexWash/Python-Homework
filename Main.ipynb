{
 "cells": [
  {
   "cell_type": "code",
   "execution_count": 2,
   "id": "f356b307-8f76-4e17-934d-733027e24d38",
   "metadata": {
    "tags": []
   },
   "outputs": [],
   "source": [
    "from pathlib import Path\n",
    "import csv"
   ]
  },
  {
   "cell_type": "code",
   "execution_count": 3,
   "id": "f780a4ba-6694-4292-91e6-d804a37783fd",
   "metadata": {
    "tags": []
   },
   "outputs": [
    {
     "data": {
      "text/plain": [
       "'/Users/alexiswash/Desktop/FINTECH/Homework'"
      ]
     },
     "execution_count": 3,
     "metadata": {},
     "output_type": "execute_result"
    }
   ],
   "source": [
    "pwd"
   ]
  },
  {
   "cell_type": "code",
   "execution_count": 4,
   "id": "bdedec25-c963-42ab-9167-f64c971c554d",
   "metadata": {
    "tags": []
   },
   "outputs": [],
   "source": [
    "budget_data = Path ('/Users/alexiswash/Desktop/FINTECH/Homework/budget_data.csv')"
   ]
  },
  {
   "cell_type": "code",
   "execution_count": 5,
   "id": "d2cf0ebc-2083-4d06-8a8b-055adc18ef4f",
   "metadata": {
    "tags": []
   },
   "outputs": [],
   "source": [
    "count = 0\n",
    "list_1 = []\n",
    "with open (budget_data) as file_:\n",
    "    budget_df = csv.reader(file_)\n",
    "    budget_df_head = next(budget_df)\n",
    "    for i in budget_df:\n",
    "        count += 1\n",
    "        list_1.append(int(i[1]))"
   ]
  },
  {
   "cell_type": "code",
   "execution_count": 6,
   "id": "76a0b23e-2021-4a7a-97ea-8663dec2887e",
   "metadata": {
    "tags": []
   },
   "outputs": [
    {
     "data": {
      "text/plain": [
       "['Date', 'Profit/Losses']"
      ]
     },
     "execution_count": 6,
     "metadata": {},
     "output_type": "execute_result"
    }
   ],
   "source": [
    "budget_df_head"
   ]
  },
  {
   "cell_type": "code",
   "execution_count": 7,
   "id": "36e67266-ade3-460d-b5cf-19cb835811d3",
   "metadata": {
    "tags": []
   },
   "outputs": [
    {
     "data": {
      "text/plain": [
       "86"
      ]
     },
     "execution_count": 7,
     "metadata": {},
     "output_type": "execute_result"
    }
   ],
   "source": [
    "# Number of months\n",
    "count"
   ]
  },
  {
   "cell_type": "code",
   "execution_count": 8,
   "id": "17cb1e28-2fe2-408d-9cb3-826bcba404f4",
   "metadata": {
    "tags": []
   },
   "outputs": [
    {
     "data": {
      "text/plain": [
       "[867884,\n",
       " 984655,\n",
       " 322013,\n",
       " -69417,\n",
       " 310503,\n",
       " 522857,\n",
       " 1033096,\n",
       " 604885,\n",
       " -216386,\n",
       " 477532,\n",
       " 893810,\n",
       " -80353,\n",
       " 779806,\n",
       " -335203,\n",
       " 697845,\n",
       " 793163,\n",
       " 485070,\n",
       " 584122,\n",
       " 62729,\n",
       " 668179,\n",
       " 899906,\n",
       " 834719,\n",
       " 132003,\n",
       " 309978,\n",
       " -755566,\n",
       " 1170593,\n",
       " 252788,\n",
       " 1151518,\n",
       " 817256,\n",
       " 570757,\n",
       " 506702,\n",
       " -1022534,\n",
       " 475062,\n",
       " 779976,\n",
       " 144175,\n",
       " 542494,\n",
       " 359333,\n",
       " 321469,\n",
       " 67780,\n",
       " 471435,\n",
       " 565603,\n",
       " 872480,\n",
       " 789480,\n",
       " 999942,\n",
       " -1196225,\n",
       " 268997,\n",
       " -687986,\n",
       " 1150461,\n",
       " 682458,\n",
       " 617856,\n",
       " 824098,\n",
       " 581943,\n",
       " 132864,\n",
       " 448062,\n",
       " 689161,\n",
       " 800701,\n",
       " 1166643,\n",
       " 947333,\n",
       " 578668,\n",
       " 988505,\n",
       " 1139715,\n",
       " 1029471,\n",
       " 687533,\n",
       " -524626,\n",
       " 158620,\n",
       " 87795,\n",
       " 423389,\n",
       " 840723,\n",
       " 568529,\n",
       " 332067,\n",
       " 989499,\n",
       " 778237,\n",
       " 650000,\n",
       " -1100387,\n",
       " -174946,\n",
       " 757143,\n",
       " 445709,\n",
       " 712961,\n",
       " -1163797,\n",
       " 569899,\n",
       " 768450,\n",
       " 102685,\n",
       " 795914,\n",
       " 60988,\n",
       " 138230,\n",
       " 671099]"
      ]
     },
     "execution_count": 8,
     "metadata": {},
     "output_type": "execute_result"
    }
   ],
   "source": [
    "list_1"
   ]
  },
  {
   "cell_type": "code",
   "execution_count": 12,
   "id": "11cefcc9-de7b-4c9a-b640-dff2699e5b22",
   "metadata": {
    "tags": []
   },
   "outputs": [
    {
     "name": "stdout",
     "output_type": "stream",
     "text": [
      "[867884, 116771, -662642, -391430, 379920, 212354, 510239, -428211, -821271, 693918, 416278, -974163, 860159, -1115009, 1033048, 95318, -308093, 99052, -521393, 605450, 231727, -65187, -702716, 177975, -1065544, 1926159, -917805, 898730, -334262, -246499, -64055, -1529236, 1497596, 304914, -635801, 398319, -183161, -37864, -253689, 403655, 94168, 306877, -83000, 210462, -2196167, 1465222, -956983, 1838447, -468003, -64602, 206242, -242155, -449079, 315198, 241099, 111540, 365942, -219310, -368665, 409837, 151210, -110244, -341938, -1212159, 683246, -70825, 335594, 417334, -272194, -236462, 657432, -211262, -128237, -1750387, 925441, 932089, -311434, 267252, -1876758, 1733696, 198551, -665765, 693229, -734926, 77242, 532869]\n"
     ]
    }
   ],
   "source": [
    "before_date = 0\n",
    "list_2 = []\n",
    "with open(budget_data) as fdata:\n",
    "    reader = csv.reader(fdata)\n",
    "    \n",
    "    #reading the header row\n",
    "    header = next(reader)\n",
    "    for i in reader:\n",
    "        change = int(i[1]) - before_date\n",
    "        before_date = int(i[1])\n",
    "        list_2.append(change)\n",
    "        \n",
    "    print(list_2)"
   ]
  },
  {
   "cell_type": "code",
   "execution_count": 16,
   "id": "cef06a86-6394-458f-b98c-55da39330773",
   "metadata": {
    "tags": []
   },
   "outputs": [],
   "source": [
    "max = 0\n",
    "for j in list_2:\n",
    "    if max < j:\n",
    "        max = j"
   ]
  },
  {
   "cell_type": "code",
   "execution_count": 17,
   "id": "7c6253ea-fd1a-4fdf-930f-592c64edd6c8",
   "metadata": {
    "tags": []
   },
   "outputs": [
    {
     "data": {
      "text/plain": [
       "1926159"
      ]
     },
     "execution_count": 17,
     "metadata": {},
     "output_type": "execute_result"
    }
   ],
   "source": [
    "max"
   ]
  },
  {
   "cell_type": "code",
   "execution_count": 18,
   "id": "28dfd681-6b53-4791-94dd-47fe86abd195",
   "metadata": {
    "tags": []
   },
   "outputs": [
    {
     "data": {
      "text/plain": [
       "-2196167"
      ]
     },
     "execution_count": 18,
     "metadata": {},
     "output_type": "execute_result"
    }
   ],
   "source": [
    "min = 0\n",
    "for j in list_2:\n",
    "    if min > j:\n",
    "        min = j\n",
    "min"
   ]
  },
  {
   "cell_type": "code",
   "execution_count": 22,
   "id": "99c003f3-d022-4616-8fbd-b4eb84d4d602",
   "metadata": {},
   "outputs": [
    {
     "name": "stdout",
     "output_type": "stream",
     "text": [
      "Financial Analysis\n",
      "----------------------------\n",
      " The total number of months is 86\n",
      " The maximum profit/loss is 1926159\n",
      " The minimum profit/loss is -2196167\n"
     ]
    }
   ],
   "source": [
    "#Answers in a statement box\n",
    "\n",
    "print (\"Financial Analysis\")\n",
    "print (\"----------------------------\")\n",
    "month_count = (f' The total number of months is {count}')\n",
    "maximum_ = (f' The maximum profit/loss is {max}')\n",
    "minimum_ = (f' The minimum profit/loss is {min}')\n",
    "print (month_count)\n",
    "print (maximum_)\n",
    "print(minimum_)\n",
    "            "
   ]
  },
  {
   "cell_type": "code",
   "execution_count": null,
   "id": "c4b839e9-74c4-4823-ba12-a8fd78001f49",
   "metadata": {},
   "outputs": [],
   "source": []
  }
 ],
 "metadata": {
  "kernelspec": {
   "display_name": "Python 3 (ipykernel)",
   "language": "python",
   "name": "python3"
  },
  "language_info": {
   "codemirror_mode": {
    "name": "ipython",
    "version": 3
   },
   "file_extension": ".py",
   "mimetype": "text/x-python",
   "name": "python",
   "nbconvert_exporter": "python",
   "pygments_lexer": "ipython3",
   "version": "3.11.5"
  }
 },
 "nbformat": 4,
 "nbformat_minor": 5
}
